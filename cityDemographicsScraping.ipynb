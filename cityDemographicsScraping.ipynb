{
 "cells": [
  {
   "cell_type": "markdown",
   "metadata": {},
   "source": [
    "### Scraping http://www.city-data.com/  website to get all details of each zip code"
   ]
  },
  {
   "cell_type": "code",
   "execution_count": null,
   "metadata": {},
   "outputs": [],
   "source": [
    "import time\n",
    "import pandas as pd\n",
    "import requests\n",
    "import re\n",
    "from bs4 import BeautifulSoup\n",
    "import Warnings"
   ]
  },
  {
   "cell_type": "markdown",
   "metadata": {},
   "source": [
    "#### Defining Helper functions which interprets required data from the html"
   ]
  },
  {
   "cell_type": "code",
   "execution_count": null,
   "metadata": {},
   "outputs": [],
   "source": [
    "def getDemographics(soup,zipDict):\n",
    "    \n",
    "    #Cost of Living Index\n",
    "    parentDiv = soup.find('div',{'class':'row'}).findAll(text=True, recursive=False)\n",
    "    clIndex=parentDiv[11]\n",
    "    zipDict['CLIndex']=clIndex\n",
    "    #print(\"CLI\",clIndex)\n",
    "    \n",
    "    #Population density\n",
    "    popElement = soup.find('b',text=re.compile('Population density:'))\n",
    "    #print(popElement)#.findAll(text=True, recursive=False)\n",
    "    popdensity=popElement.find_parent().text\n",
    "    zipDict['popDensity'] =popdensity.split(\":\")[1]\n",
    "    #print(\"CLI\",zipDict['popDensity'])\n",
    "    \n",
    "    #Median Age\n",
    "    divEle=soup.find_all(\"div\",{\"class\":\"hgraph\"})\n",
    "    tempEle=\"\"\n",
    "    for div in divEle:\n",
    "        tempEle=div.find('b',text=re.compile(\"Median resident age:\"))\n",
    "        if tempEle is not None:\n",
    "            break\n",
    "        else:\n",
    "            pass\n",
    "    ageString=tempEle.find_next().text\n",
    "    zipDict['MAge']=ageString.split(\":\")[1]\n",
    "    #print(\"CLI\",zipDict['MAge'])\n",
    "    #Median Income\n",
    "    tempEle=\"\"\n",
    "    for div in divEle:\n",
    "        tempEle=div.find('b',text=re.compile(\"Estimated median household income\"))\n",
    "        if tempEle is not None:\n",
    "            break\n",
    "        else:\n",
    "            pass\n",
    "    #print(tempEle)\n",
    "    tdList=tempEle.next_sibling()[0]\n",
    "    zipDict['MIncome']=tdList.text.split(\":\")[1]\n",
    "    #print(\"MIncome\",zipDict['MIncome'])\n",
    "    \n",
    "    #Below Poverty Line\n",
    "    tempEle=soup.find('b',text=re.compile(\"Residents with income below the poverty level\"))\n",
    "    #print(tempEle)\n",
    "    tdList=tempEle.next_siblings\n",
    "    zipDict['BPovertyLine']=list(tdList)[2].text.split(\":\")[1]\n",
    "    #print(\"BPovertyLine\",zipDict['BPovertyLine'])\n",
    "    \n",
    "    #Median rent\n",
    "    tempEle=soup.find('b',text=re.compile(\"Median gross rent in 2019:\"))\n",
    "    #print(tempEle)\n",
    "    tdList=tempEle.find_parent()\n",
    "    zipDict['MRent']=tdList.text.split(\":\")[1]\n",
    "    #print(\"MRent\",zipDict['MRent'])\n",
    "    \n",
    "    return zipDict\n",
    "\n",
    "\n",
    "#This function is callded after scraping gets completed\n",
    "    \n",
    "def cleanZipDataset(zipCodedf):\n",
    "    #Clean Median Income\n",
    "    zipCodedf['MIncome']=zipCodedf['MIncome'].apply(lambda x:str(x).strip(\"$\"))\n",
    "    #Clean BPovertyLine\n",
    "    zipCodedf['BPovertyLine']=zipCodedf['BPovertyLine'].apply(lambda x:str(x).split(\"%\")[0].strip())\n",
    "    #Clean MRent\n",
    "    zipCodedf['MRent']=zipCodedf['MRent'].apply(lambda x:str(x).strip(\".\\r\\n\").replace(\"$\",\"\").strip(\"\"))\n",
    "    #Clean MedianAge\n",
    "    zipCodedf['MAge']=zipCodedf['MAge'].apply(lambda x:re.sub(r'[^\\d.]+', '', str(x)))\n",
    "    #clean PopDensity\n",
    "    zipCodedf['popDensity']=zipCodedf['popDensity'].apply(lambda x:re.sub(r'[^\\d]+', '', str(x)))\n",
    "    \n",
    "    return zipCodedf\n",
    "    \n",
    "    \n",
    "    \n"
   ]
  },
  {
   "cell_type": "markdown",
   "metadata": {},
   "source": [
    "#### Get  Unique Zip Codes from the data collected over Trulia Website."
   ]
  },
  {
   "cell_type": "code",
   "execution_count": null,
   "metadata": {},
   "outputs": [],
   "source": [
    "#Reading this file is required as it will give us  the Unique Zip codes for which demographic details need to be collected.\n",
    "\n",
    "#HousePriceDetails.csv has the data collected from Trulia Website. We are reading this file to get Zip Codes.\n",
    "housedf=pd.read_csv(\"HousePriceDetails.csv\")\n",
    "housedf.dropna(subset=['Price','Bed','Bath','FloorSize','LotSize','Crime','HOAfees','Shop&Eat','PropertyType','School'],inplace=True)\n",
    "uniqueZipCodes=housedf['ZipCode'].unique().tolist()\n",
    "uniqueCities=housedf['City'].unique().tolist()"
   ]
  },
  {
   "cell_type": "markdown",
   "metadata": {},
   "source": [
    "#### Writing the Scraping Logic"
   ]
  },
  {
   "cell_type": "code",
   "execution_count": null,
   "metadata": {},
   "outputs": [],
   "source": [
    "len(uniqueZipCodes)"
   ]
  },
  {
   "cell_type": "code",
   "execution_count": null,
   "metadata": {},
   "outputs": [],
   "source": [
    "url=\"http://www.city-data.com/zips/\"\n",
    "zipDetailsList=[]\n",
    "headers = {'User-Agent': 'Mozilla/5.0 (Macintosh; Intel Mac OS X 10_10_1) AppleWebKit/537.36 (KHTML, like Gecko) Chrome/39.0.2171.95 Safari/537.36'}\n",
    "for i in range(0,len(uniqueZipCodes)):\n",
    "    newUrl=\"\"\n",
    "    newUrl=url+str(uniqueZipCodes[i])+\".html\"\n",
    "    print(newUrl)\n",
    "    zipDict={}\n",
    "    try:\n",
    "        response = requests.get(newUrl,headers=headers)\n",
    "        time.sleep(10)\n",
    "        soup = BeautifulSoup(response.content, 'lxml')\n",
    "        zipDict=getDemographics(soup,zipDict)\n",
    "       \n",
    "    except:\n",
    "        print(\"Doesnt have details for this zipCOde\")\n",
    "    zipDict['zipCode']=str(uniqueZipCodes[i])\n",
    "    print(zipDict)\n",
    "    zipDetailsList.append(zipDict)\n",
    "    \n",
    "        \n",
    "#Convert list of dictionaries into dataframe\n",
    "zipCodedf=pd.DataFrame(zipDetailsList)\n",
    "\n",
    "zipCodedf=cleanZipDataset(zipCodedf)\n",
    "\n",
    "                           "
   ]
  },
  {
   "cell_type": "markdown",
   "metadata": {},
   "source": [
    "#### Writing the dataframe to a csv file which will be used in data preprocessing as We need to merge these details with the House price details"
   ]
  },
  {
   "cell_type": "code",
   "execution_count": 10,
   "metadata": {},
   "outputs": [
    {
     "data": {
      "text/html": [
       "<div>\n",
       "<style scoped>\n",
       "    .dataframe tbody tr th:only-of-type {\n",
       "        vertical-align: middle;\n",
       "    }\n",
       "\n",
       "    .dataframe tbody tr th {\n",
       "        vertical-align: top;\n",
       "    }\n",
       "\n",
       "    .dataframe thead th {\n",
       "        text-align: right;\n",
       "    }\n",
       "</style>\n",
       "<table border=\"1\" class=\"dataframe\">\n",
       "  <thead>\n",
       "    <tr style=\"text-align: right;\">\n",
       "      <th></th>\n",
       "      <th>CLIndex</th>\n",
       "      <th>popDensity</th>\n",
       "      <th>MAge</th>\n",
       "      <th>MIncome</th>\n",
       "      <th>BPovertyLine</th>\n",
       "      <th>MRent</th>\n",
       "      <th>zipCode</th>\n",
       "    </tr>\n",
       "  </thead>\n",
       "  <tbody>\n",
       "    <tr>\n",
       "      <td>0</td>\n",
       "      <td>149.7</td>\n",
       "      <td>10251</td>\n",
       "      <td>36.7</td>\n",
       "      <td>117,191</td>\n",
       "      <td>7.3</td>\n",
       "      <td>2,376</td>\n",
       "      <td>95136</td>\n",
       "    </tr>\n",
       "    <tr>\n",
       "      <td>1</td>\n",
       "      <td>150.0</td>\n",
       "      <td>8331</td>\n",
       "      <td>37.8</td>\n",
       "      <td>122,947</td>\n",
       "      <td>4.9</td>\n",
       "      <td>2,608</td>\n",
       "      <td>95123</td>\n",
       "    </tr>\n",
       "    <tr>\n",
       "      <td>2</td>\n",
       "      <td>148.3</td>\n",
       "      <td>5151</td>\n",
       "      <td>36.1</td>\n",
       "      <td>103,198</td>\n",
       "      <td>6.8</td>\n",
       "      <td>2,075</td>\n",
       "      <td>95127</td>\n",
       "    </tr>\n",
       "    <tr>\n",
       "      <td>3</td>\n",
       "      <td>148.2</td>\n",
       "      <td>11536</td>\n",
       "      <td>35.2</td>\n",
       "      <td>76,430</td>\n",
       "      <td>11.0</td>\n",
       "      <td>1,631</td>\n",
       "      <td>95111</td>\n",
       "    </tr>\n",
       "    <tr>\n",
       "      <td>4</td>\n",
       "      <td>149.7</td>\n",
       "      <td>7916</td>\n",
       "      <td>39.8</td>\n",
       "      <td>162,651</td>\n",
       "      <td>3.3</td>\n",
       "      <td>2,403</td>\n",
       "      <td>95124</td>\n",
       "    </tr>\n",
       "  </tbody>\n",
       "</table>\n",
       "</div>"
      ],
      "text/plain": [
       "   CLIndex popDensity  MAge  MIncome BPovertyLine   MRent zipCode\n",
       "0   149.7       10251  36.7  117,191          7.3   2,376   95136\n",
       "1   150.0        8331  37.8  122,947          4.9   2,608   95123\n",
       "2   148.3        5151  36.1  103,198          6.8   2,075   95127\n",
       "3   148.2       11536  35.2   76,430         11.0   1,631   95111\n",
       "4   149.7        7916  39.8  162,651          3.3   2,403   95124"
      ]
     },
     "execution_count": 10,
     "metadata": {},
     "output_type": "execute_result"
    }
   ],
   "source": [
    "zipCodedf.to_csv(\"zipDetails.csv\",index=False)\n",
    "zipCodedf.head()"
   ]
  },
  {
   "cell_type": "markdown",
   "metadata": {},
   "source": [
    "### Scraping Crime Details for each city\n"
   ]
  },
  {
   "cell_type": "code",
   "execution_count": null,
   "metadata": {},
   "outputs": [],
   "source": [
    "# Declaring a Map here as format of city value used for some cities are different than those of TRulia.com.\n",
    "#IN Trulia It is \"underscore\" but in city-data.com it is \"hyphen\"\n",
    "cityMap={'SanJose':'San-Jose','CastroValley':'Castro-Valley',\n",
    "        'SanRamon':'San-Ramon','UnionCity':'Union-City','PaloAlto':'Palo-Alto',\n",
    "        'SantaClara':'Santa-Clara','SanMateo':'San-Mateo','WalnutCreek':'Walnut-Creek',\n",
    "        'SantaCruz':'Santa-Cruz','HalfMoonBay':'Half-Moon-Bay'}"
   ]
  },
  {
   "cell_type": "code",
   "execution_count": null,
   "metadata": {},
   "outputs": [],
   "source": [
    "url=\"http://www.city-data.com/city/\"\n",
    "cityDetailsList=[]\n",
    "headers = {'User-Agent': 'Mozilla/5.0 (Macintosh; Intel Mac OS X 10_10_1) AppleWebKit/537.36 (KHTML, like Gecko) Chrome/39.0.2171.95 Safari/537.36'}\n",
    "try:\n",
    "    for i in range(0,len(uniqueCities)):\n",
    "        cityVal=cityMap.get(uniqueCities[i],uniqueCities[i])\n",
    "        newUrl=\"\"\n",
    "        newUrl=url+str(cityVal)+\"-California.html\"\n",
    "        print(newUrl)\n",
    "        cityDict={}\n",
    "        response = requests.get(newUrl,headers=headers)\n",
    "        time.sleep(10)\n",
    "        soup = BeautifulSoup(response.content, 'lxml')\n",
    "        crimeIndex=None\n",
    "        try:\n",
    "            trEle=soup.find('tr',{'class':'nosort'})\n",
    "            #print(trEle)\n",
    "            tdList=list(trEle.find_all('td'))\n",
    "            #print(tdList)\n",
    "            crimeIndex=tdList[-1].text\n",
    "            #print(crimeIndex)\n",
    "        except:\n",
    "            print(\"doesn't have crime Index details\")\n",
    "        cityDict['crimeIndex']=crimeIndex\n",
    "        cityDict['city']=str(uniqueCities[i])\n",
    "        print(cityDict)\n",
    "        cityDetailsList.append(cityDict)\n",
    "except:\n",
    "    print(\"Exception \")\n",
    "\n",
    "        \n",
    "#Convert list of dictionaries into dataframe\n",
    "\n",
    "cityCrimeIndexdf=pd.DataFrame(cityDetailsList)\n",
    "cityCrimeIndexdf.head()\n",
    "\n",
    "\n"
   ]
  },
  {
   "cell_type": "code",
   "execution_count": 11,
   "metadata": {},
   "outputs": [
    {
     "name": "stderr",
     "output_type": "stream",
     "text": [
      "C:\\Users\\jhash\\Anaconda3\\lib\\site-packages\\ipykernel_launcher.py:6: FutureWarning: `item` has been deprecated and will be removed in a future version\n",
      "  \n",
      "C:\\Users\\jhash\\Anaconda3\\lib\\site-packages\\ipykernel_launcher.py:7: FutureWarning: `item` has been deprecated and will be removed in a future version\n",
      "  import sys\n"
     ]
    }
   ],
   "source": [
    "#Manually entering CrimeIndex for Castro Valley and El Granda as website doesn't show the related info.\n",
    "#Assigning the corresponding values of neighbouring cities\n",
    "#Crime Index of Castro Valley = Crime Index of Hayward\n",
    "#Crime Index of El Granda =crime Index of San Mateo\n",
    "\n",
    "cityCrimeIndexdf.loc[cityCrimeIndexdf['city']==\"CastroValley\",'crimeIndex']= cityCrimeIndexdf.loc[cityCrimeIndexdf['city']==\"Hayward\",'crimeIndex'].item()\n",
    "cityCrimeIndexdf.loc[cityCrimeIndexdf['city']==\"ElGranada\",'crimeIndex']= cityCrimeIndexdf.loc[cityCrimeIndexdf['city']==\"SanMateo\",'crimeIndex'].item()"
   ]
  },
  {
   "cell_type": "markdown",
   "metadata": {},
   "source": [
    "    "
   ]
  },
  {
   "cell_type": "markdown",
   "metadata": {},
   "source": [
    "#### Writing the above dataframe to a csv file as this will be merged with HousePrice Details"
   ]
  },
  {
   "cell_type": "code",
   "execution_count": 12,
   "metadata": {},
   "outputs": [],
   "source": [
    "cityCrimeIndexdf.to_csv(\"CrimeDetailsperCity.csv\",index=False)"
   ]
  },
  {
   "cell_type": "code",
   "execution_count": null,
   "metadata": {},
   "outputs": [],
   "source": []
  }
 ],
 "metadata": {
  "kernelspec": {
   "display_name": "Python 3",
   "language": "python",
   "name": "python3"
  },
  "language_info": {
   "codemirror_mode": {
    "name": "ipython",
    "version": 3
   },
   "file_extension": ".py",
   "mimetype": "text/x-python",
   "name": "python",
   "nbconvert_exporter": "python",
   "pygments_lexer": "ipython3",
   "version": "3.7.4"
  }
 },
 "nbformat": 4,
 "nbformat_minor": 2
}
