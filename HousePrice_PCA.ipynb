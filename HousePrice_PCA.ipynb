{
 "cells": [
  {
   "cell_type": "markdown",
   "metadata": {},
   "source": [
    "# House Price  Prediction(Standard Model vs PCA Model)"
   ]
  },
  {
   "cell_type": "code",
   "execution_count": 94,
   "metadata": {},
   "outputs": [],
   "source": [
    "# Importing all the required packages \n",
    "\n",
    "import time\n",
    "import pandas as pd\n",
    "import requests\n",
    "import re\n",
    "import matplotlib.pyplot as plt\n",
    "import numpy as np\n",
    "import math\n",
    "import seaborn as sns\n",
    "from sklearn.preprocessing import MinMaxScaler\n",
    "from sklearn.metrics import mean_squared_error\n",
    "from sklearn.preprocessing import StandardScaler\n",
    "pd.pandas.set_option('display.max_columns', None)"
   ]
  },
  {
   "cell_type": "markdown",
   "metadata": {},
   "source": [
    "### Load Dataset"
   ]
  },
  {
   "cell_type": "code",
   "execution_count": 95,
   "metadata": {},
   "outputs": [
    {
     "data": {
      "text/html": [
       "<div>\n",
       "<style scoped>\n",
       "    .dataframe tbody tr th:only-of-type {\n",
       "        vertical-align: middle;\n",
       "    }\n",
       "\n",
       "    .dataframe tbody tr th {\n",
       "        vertical-align: top;\n",
       "    }\n",
       "\n",
       "    .dataframe thead th {\n",
       "        text-align: right;\n",
       "    }\n",
       "</style>\n",
       "<table border=\"1\" class=\"dataframe\">\n",
       "  <thead>\n",
       "    <tr style=\"text-align: right;\">\n",
       "      <th></th>\n",
       "      <th>Price</th>\n",
       "      <th>Bed</th>\n",
       "      <th>Bath</th>\n",
       "      <th>FloorSize</th>\n",
       "      <th>City</th>\n",
       "      <th>ZipCode</th>\n",
       "      <th>LotSize</th>\n",
       "      <th>AgentInfo</th>\n",
       "      <th>PropertyType</th>\n",
       "      <th>CLIndex</th>\n",
       "      <th>popDensity</th>\n",
       "      <th>MAge</th>\n",
       "      <th>MIncome</th>\n",
       "      <th>BPovertyLine</th>\n",
       "      <th>MRent</th>\n",
       "      <th>CrimeIndex</th>\n",
       "      <th>SchoolCount</th>\n",
       "      <th>Restaurants</th>\n",
       "      <th>Groceries</th>\n",
       "      <th>Age</th>\n",
       "      <th>AgeCategory</th>\n",
       "      <th>HOAfees_0</th>\n",
       "    </tr>\n",
       "  </thead>\n",
       "  <tbody>\n",
       "    <tr>\n",
       "      <td>0</td>\n",
       "      <td>1250000.0</td>\n",
       "      <td>4.0</td>\n",
       "      <td>3.0</td>\n",
       "      <td>2209.0</td>\n",
       "      <td>SanJose</td>\n",
       "      <td>95136</td>\n",
       "      <td>6141.0</td>\n",
       "      <td>ML81840754</td>\n",
       "      <td>Single Family Home</td>\n",
       "      <td>149.7</td>\n",
       "      <td>10251.0</td>\n",
       "      <td>36.7</td>\n",
       "      <td>117191.0</td>\n",
       "      <td>7.3</td>\n",
       "      <td>2376.0</td>\n",
       "      <td>277.0</td>\n",
       "      <td>3</td>\n",
       "      <td>51.0</td>\n",
       "      <td>10.0</td>\n",
       "      <td>45.0</td>\n",
       "      <td>MIDDLE AGED</td>\n",
       "      <td>1</td>\n",
       "    </tr>\n",
       "    <tr>\n",
       "      <td>1</td>\n",
       "      <td>985000.0</td>\n",
       "      <td>4.0</td>\n",
       "      <td>2.0</td>\n",
       "      <td>1883.0</td>\n",
       "      <td>SanJose</td>\n",
       "      <td>95123</td>\n",
       "      <td>7130.0</td>\n",
       "      <td>ML81841879</td>\n",
       "      <td>Single Family Home</td>\n",
       "      <td>150.0</td>\n",
       "      <td>8331.0</td>\n",
       "      <td>37.8</td>\n",
       "      <td>122947.0</td>\n",
       "      <td>4.9</td>\n",
       "      <td>2608.0</td>\n",
       "      <td>277.0</td>\n",
       "      <td>4</td>\n",
       "      <td>63.0</td>\n",
       "      <td>9.0</td>\n",
       "      <td>53.0</td>\n",
       "      <td>MIDDLE AGED</td>\n",
       "      <td>1</td>\n",
       "    </tr>\n",
       "    <tr>\n",
       "      <td>2</td>\n",
       "      <td>925000.0</td>\n",
       "      <td>4.0</td>\n",
       "      <td>2.0</td>\n",
       "      <td>1154.0</td>\n",
       "      <td>SanJose</td>\n",
       "      <td>95127</td>\n",
       "      <td>6838.0</td>\n",
       "      <td>ML81842519</td>\n",
       "      <td>Single Family Home</td>\n",
       "      <td>148.3</td>\n",
       "      <td>5151.0</td>\n",
       "      <td>36.1</td>\n",
       "      <td>103198.0</td>\n",
       "      <td>6.8</td>\n",
       "      <td>2075.0</td>\n",
       "      <td>277.0</td>\n",
       "      <td>1</td>\n",
       "      <td>57.0</td>\n",
       "      <td>12.0</td>\n",
       "      <td>67.0</td>\n",
       "      <td>MIDDLE AGED</td>\n",
       "      <td>1</td>\n",
       "    </tr>\n",
       "    <tr>\n",
       "      <td>3</td>\n",
       "      <td>979000.0</td>\n",
       "      <td>4.0</td>\n",
       "      <td>3.0</td>\n",
       "      <td>1743.0</td>\n",
       "      <td>SanJose</td>\n",
       "      <td>95111</td>\n",
       "      <td>6520.0</td>\n",
       "      <td>ML81842454</td>\n",
       "      <td>Single Family Home</td>\n",
       "      <td>148.2</td>\n",
       "      <td>11536.0</td>\n",
       "      <td>35.2</td>\n",
       "      <td>76430.0</td>\n",
       "      <td>11.0</td>\n",
       "      <td>1631.0</td>\n",
       "      <td>277.0</td>\n",
       "      <td>4</td>\n",
       "      <td>46.0</td>\n",
       "      <td>9.0</td>\n",
       "      <td>54.0</td>\n",
       "      <td>MIDDLE AGED</td>\n",
       "      <td>1</td>\n",
       "    </tr>\n",
       "    <tr>\n",
       "      <td>4</td>\n",
       "      <td>1148880.0</td>\n",
       "      <td>5.0</td>\n",
       "      <td>2.0</td>\n",
       "      <td>1715.0</td>\n",
       "      <td>SanJose</td>\n",
       "      <td>95136</td>\n",
       "      <td>8800.0</td>\n",
       "      <td>40947217</td>\n",
       "      <td>ResidentialProperty Subtype</td>\n",
       "      <td>149.7</td>\n",
       "      <td>10251.0</td>\n",
       "      <td>36.7</td>\n",
       "      <td>117191.0</td>\n",
       "      <td>7.3</td>\n",
       "      <td>2376.0</td>\n",
       "      <td>277.0</td>\n",
       "      <td>3</td>\n",
       "      <td>41.0</td>\n",
       "      <td>9.0</td>\n",
       "      <td>52.0</td>\n",
       "      <td>MIDDLE AGED</td>\n",
       "      <td>0</td>\n",
       "    </tr>\n",
       "  </tbody>\n",
       "</table>\n",
       "</div>"
      ],
      "text/plain": [
       "       Price  Bed  Bath  FloorSize     City  ZipCode  LotSize   AgentInfo  \\\n",
       "0  1250000.0  4.0   3.0     2209.0  SanJose    95136   6141.0  ML81840754   \n",
       "1   985000.0  4.0   2.0     1883.0  SanJose    95123   7130.0  ML81841879   \n",
       "2   925000.0  4.0   2.0     1154.0  SanJose    95127   6838.0  ML81842519   \n",
       "3   979000.0  4.0   3.0     1743.0  SanJose    95111   6520.0  ML81842454   \n",
       "4  1148880.0  5.0   2.0     1715.0  SanJose    95136   8800.0    40947217   \n",
       "\n",
       "                  PropertyType  CLIndex  popDensity  MAge   MIncome  \\\n",
       "0           Single Family Home    149.7     10251.0  36.7  117191.0   \n",
       "1           Single Family Home    150.0      8331.0  37.8  122947.0   \n",
       "2           Single Family Home    148.3      5151.0  36.1  103198.0   \n",
       "3           Single Family Home    148.2     11536.0  35.2   76430.0   \n",
       "4  ResidentialProperty Subtype    149.7     10251.0  36.7  117191.0   \n",
       "\n",
       "   BPovertyLine   MRent  CrimeIndex  SchoolCount  Restaurants  Groceries  \\\n",
       "0           7.3  2376.0       277.0            3         51.0       10.0   \n",
       "1           4.9  2608.0       277.0            4         63.0        9.0   \n",
       "2           6.8  2075.0       277.0            1         57.0       12.0   \n",
       "3          11.0  1631.0       277.0            4         46.0        9.0   \n",
       "4           7.3  2376.0       277.0            3         41.0        9.0   \n",
       "\n",
       "    Age  AgeCategory  HOAfees_0  \n",
       "0  45.0  MIDDLE AGED          1  \n",
       "1  53.0  MIDDLE AGED          1  \n",
       "2  67.0  MIDDLE AGED          1  \n",
       "3  54.0  MIDDLE AGED          1  \n",
       "4  52.0  MIDDLE AGED          0  "
      ]
     },
     "execution_count": 95,
     "metadata": {},
     "output_type": "execute_result"
    }
   ],
   "source": [
    "housedf=pd.read_csv(\"HousePriceDetails_Cleaned.csv\")\n",
    "housedf.head()"
   ]
  },
  {
   "cell_type": "code",
   "execution_count": 96,
   "metadata": {},
   "outputs": [
    {
     "data": {
      "text/plain": [
       "['LotSize', 'CLIndex', 'Age', 'HOAfees_0']"
      ]
     },
     "execution_count": 96,
     "metadata": {},
     "output_type": "execute_result"
    }
   ],
   "source": [
    "#Dropping columns which is not helpful in predicting the House Price\n",
    "housedf.drop(['ZipCode','City','AgentInfo','PropertyType','AgeCategory'],axis=1,inplace=True)\n",
    "## Check if any column contain 0 as numerical values\n",
    "zeroValuedColumns=[]\n",
    "for column in list(housedf.columns):\n",
    "    if 0 in housedf[column].unique():\n",
    "        zeroValuedColumns.append(column)\n",
    "zeroValuedColumns      "
   ]
  },
  {
   "cell_type": "code",
   "execution_count": 97,
   "metadata": {},
   "outputs": [],
   "source": [
    "#Age and HOAfees_0 can have 0 as values. SO Handling other two columns\n",
    "\n",
    "housedf.loc[housedf['LotSize']==0,'LotSize']=housedf['LotSize'].mean()\n",
    "housedf.loc[housedf['CLIndex']==0,'CLIndex']=housedf['CLIndex'].mean()\n",
    "housedf.loc[housedf['Age']==0,'Age']=0.5\n"
   ]
  },
  {
   "cell_type": "markdown",
   "metadata": {},
   "source": [
    "##### Data Preprocessing before training the  Model"
   ]
  },
  {
   "cell_type": "code",
   "execution_count": 98,
   "metadata": {},
   "outputs": [
    {
     "name": "stdout",
     "output_type": "stream",
     "text": [
      "Features of the Model ['Restaurants', 'MAge', 'LotSize', 'SchoolCount', 'popDensity', 'MIncome', 'Bath', 'CrimeIndex', 'FloorSize', 'Groceries', 'BPovertyLine', 'MRent', 'Bed', 'CLIndex', 'Age', 'HOAfees_0']\n"
     ]
    }
   ],
   "source": [
    "#Defining the features and dependent variable\n",
    "cat_cols=['HOAfees_0']\n",
    "target_val=['Price']\n",
    "numerical_cols=list(set(housedf.columns)-set(cat_cols)-set(target_val))\n",
    "numerical_cols,cat_cols,target_val\n",
    "features=numerical_cols+cat_cols\n",
    "print(\"Features of the Model\",features)"
   ]
  },
  {
   "cell_type": "markdown",
   "metadata": {},
   "source": [
    "### Implement PCA  to reduce dimensionality"
   ]
  },
  {
   "cell_type": "code",
   "execution_count": 99,
   "metadata": {},
   "outputs": [],
   "source": [
    "#Divide the dataset into Training and Testing set.We are selecting some important features which can effect the price based on the\n",
    "#analysis we did while exploring the relationship between different features and House Price\n",
    "\n",
    "from sklearn.model_selection import train_test_split\n",
    "X_train,X_test,y_train,y_test=train_test_split(housedf[features],housedf['Price'],test_size=0.1,random_state=0)"
   ]
  },
  {
   "cell_type": "code",
   "execution_count": 100,
   "metadata": {},
   "outputs": [],
   "source": [
    "\n",
    "#fit scalar on training data\n",
    "scalar=StandardScaler().fit(X_train[numerical_cols])\n",
    "#Transform Train and test data\n",
    "X_train = pd.concat([X_train[['HOAfees_0']].reset_index(drop=True),\n",
    "                    pd.DataFrame(scalar.transform(X_train[numerical_cols]), columns=numerical_cols)],\n",
    "                    axis=1)\n",
    "X_test= pd.concat([X_test[['HOAfees_0']].reset_index(drop=True),\n",
    "                    pd.DataFrame(scalar.transform(X_test[numerical_cols]), columns=numerical_cols)],\n",
    "                    axis=1)\n"
   ]
  },
  {
   "cell_type": "code",
   "execution_count": 101,
   "metadata": {
    "scrolled": true
   },
   "outputs": [
    {
     "data": {
      "image/png": "[encoded data removed]",
      "text/plain": [
       "<Figure size 432x288 with 1 Axes>"
      ]
     },
     "metadata": {
      "needs_background": "light"
     },
     "output_type": "display_data"
    }
   ],
   "source": [
    "from sklearn.decomposition import PCA\n",
    "pca = PCA()\n",
    "principalComponents = pca.fit_transform(X_train[numerical_cols])\n",
    "plt.figure()\n",
    "plt.plot(np.cumsum(pca.explained_variance_ratio_))\n",
    "plt.xlabel('Number of Components')\n",
    "plt.ylabel('Variance (%)') #for each component\n",
    "plt.title('Explained Variance')\n",
    "plt.show()"
   ]
  },
  {
   "cell_type": "code",
   "execution_count": 62,
   "metadata": {},
   "outputs": [
    {
     "data": {
      "image/png": "[encoded data removed]",
      "text/plain": [
       "<Figure size 432x288 with 1 Axes>"
      ]
     },
     "metadata": {
      "needs_background": "light"
     },
     "output_type": "display_data"
    }
   ],
   "source": [
    "plt.bar(list(range(1,len(numerical_cols)+1)),pca.explained_variance_ratio_,alpha=0.5, align='center')\n",
    "plt.ylabel('Variation explained')\n",
    "plt.xlabel('No of COmponets)\n",
    "plt.show()"
   ]
  },
  {
   "cell_type": "code",
   "execution_count": 104,
   "metadata": {},
   "outputs": [
    {
     "name": "stdout",
     "output_type": "stream",
     "text": [
      "[0.3421656  0.13425737 0.09848794 0.08749199 0.0697389  0.05679201\n",
      " 0.05513379 0.03877895 0.03011818]\n"
     ]
    }
   ],
   "source": [
    "#We will go with 9 componets as its explaining more than 90 % of the variance in the dataset as evident from the above two plots\n",
    "pca = PCA(n_components=9)\n",
    "pca.fit(X_train[numerical_cols])\n",
    "#print(pca3.components_)\n",
    "print(pca.explained_variance_ratio_)\n",
    "X_train_pca = pca.transform(X_train[numerical_cols])\n",
    "#X_train_pca"
   ]
  },
  {
   "cell_type": "code",
   "execution_count": 105,
   "metadata": {},
   "outputs": [],
   "source": [
    "X_train_pca = pd.DataFrame(data = X_train_pca\n",
    "             , columns = ['PC1', 'PC2','PC3','PC4','PC5','PC6','PC7','PC8','PC9'])"
   ]
  },
  {
   "cell_type": "code",
   "execution_count": 106,
   "metadata": {},
   "outputs": [],
   "source": [
    "#Transform test data as well\n",
    "\n",
    "X_test_pca = pca.transform(X_test[numerical_cols])\n",
    "X_test_pca = pd.DataFrame(data = X_test_pca\n",
    "             , columns = ['PC1', 'PC2','PC3','PC4','PC5','PC6','PC7','PC8','PC9'])\n"
   ]
  },
  {
   "cell_type": "markdown",
   "metadata": {},
   "source": [
    "##### Training the model  after applying PCA"
   ]
  },
  {
   "cell_type": "code",
   "execution_count": 110,
   "metadata": {},
   "outputs": [
    {
     "name": "stdout",
     "output_type": "stream",
     "text": [
      "RMSE of PCA Model 773193.24\n"
     ]
    }
   ],
   "source": [
    "\n",
    "from sklearn.linear_model import LinearRegression\n",
    "\n",
    "pca_reg = LinearRegression()\n",
    "pca_reg.fit(X_train_pca, y_train)\n",
    "\n",
    "# Create Y Predictions\n",
    "y_predict = pca_reg.predict(X_test_pca)\n",
    "\n",
    "rmse = math.sqrt(mean_squared_error(y_test, y_predict))\n",
    "print(\"RMSE of PCA Model\",round(rmse,2))"
   ]
  },
  {
   "cell_type": "code",
   "execution_count": 111,
   "metadata": {},
   "outputs": [
    {
     "name": "stdout",
     "output_type": "stream",
     "text": [
      "RMSE of std Model 846220.98\n"
     ]
    }
   ],
   "source": [
    "std_reg = LinearRegression()\n",
    "std_reg.fit(X_train, y_train)\n",
    "\n",
    "# Create Y Predictions\n",
    "y_predict = std_reg.predict(X_test)\n",
    "\n",
    "rmse = math.sqrt(mean_squared_error(y_test, y_predict))\n",
    "print(\"RMSE of std Model\",round(rmse,2))"
   ]
  },
  {
   "cell_type": "markdown",
   "metadata": {},
   "source": [
    "### With PCA the accuracy metrics of the model has been considerably improved!!!"
   ]
  },
  {
   "cell_type": "code",
   "execution_count": null,
   "metadata": {},
   "outputs": [],
   "source": []
  }
 ],
 "metadata": {
  "kernelspec": {
   "display_name": "Python 3",
   "language": "python",
   "name": "python3"
  },
  "language_info": {
   "codemirror_mode": {
    "name": "ipython",
    "version": 3
   },
   "file_extension": ".py",
   "mimetype": "text/x-python",
   "name": "python",
   "nbconvert_exporter": "python",
   "pygments_lexer": "ipython3",
   "version": "3.7.4"
  }
 },
 "nbformat": 4,
 "nbformat_minor": 2
}
